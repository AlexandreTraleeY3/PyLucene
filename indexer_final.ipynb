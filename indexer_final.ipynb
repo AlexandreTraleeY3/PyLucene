{
 "cells": [
  {
   "cell_type": "markdown",
   "metadata": {},
   "source": [
    "# Project on PyLucene(8.3.0)"
   ]
  },
  {
   "cell_type": "markdown",
   "metadata": {},
   "source": [
    "This project goal was to index the AppStore comments from differents applications and create a data retriever with query and query expansions using PyLucene. For running this file, make sure, you have PyLucene 8.3.0(available on https://dist.apache.org/repos/dist/dev/lucene/pylucene/8.3.0-rc1/), gensim and lupyne server installed."
   ]
  },
  {
   "cell_type": "markdown",
   "metadata": {},
   "source": [
    "This file defines 3 classes:\n",
    "1) Indexer\n",
    "2) Searcher\n",
    "3) Vector_model"
   ]
  },
  {
   "cell_type": "markdown",
   "metadata": {},
   "source": [
    "The file is divided as follow: a first part focusing on data retrieval, a second part on the indexer, a third part on Searcher(searcher_class and vector_model) and a last part on query example."
   ]
  },
  {
   "cell_type": "code",
   "execution_count": 7,
   "metadata": {},
   "outputs": [],
   "source": [
    "import lucene as pl\n",
    "import os\n",
    "from java.nio.file import Paths\n",
    "import csv"
   ]
  },
  {
   "cell_type": "code",
   "execution_count": 8,
   "metadata": {},
   "outputs": [],
   "source": [
    "from java.io import StringReader\n",
    "from org.apache.lucene.analysis.standard import StandardAnalyzer, StandardTokenizer\n",
    "from org.apache.lucene.document import Document, Field, TextField, FieldType\n",
    "from org.apache.lucene.index import IndexWriter, IndexWriterConfig, DirectoryReader, FieldInfo, IndexOptions,MultiReader, Term\n",
    "from org.apache.lucene.store import SimpleFSDirectory"
   ]
  },
  {
   "cell_type": "code",
   "execution_count": null,
   "metadata": {
    "scrolled": true
   },
   "outputs": [],
   "source": [
    "#Init Virtual Machine\n",
    "pl.initVM(vmargs=['-Djava.awt.headless=true'])"
   ]
  },
  {
   "cell_type": "markdown",
   "metadata": {},
   "source": [
    "# Data retrieval"
   ]
  },
  {
   "cell_type": "markdown",
   "metadata": {
    "scrolled": true
   },
   "source": [
    "Given a tsv file, creates fields"
   ]
  },
  {
   "cell_type": "code",
   "execution_count": 20,
   "metadata": {},
   "outputs": [],
   "source": [
    "def data_reader(file_name):\n",
    "    '''Read file with 9 fields with \";\" separator'''\n",
    "    data = []\n",
    "    with open(file_name) as train:\n",
    "        csv_reader = csv.reader(train, delimiter=';')\n",
    "        print('Reading file:')\n",
    "        count = 0\n",
    "        try:\n",
    "            for row in csv_reader:\n",
    "                if (count<1):\n",
    "                    print('###Example of input###')\n",
    "                    print('-id: '+ row[0]+ ' -developer: ' + row[1] + ' -AppName: ' + row[2] \n",
    "                      + ' -rating: ' + row[3] + ' -n_comments:' + row[4] + ' -top_cat: ' + row[5]\n",
    "                     + ' -price: ' + row[6] )\n",
    "                    print('Comment title: ' + row[7])\n",
    "                    print('Comment body: ' + row[8])\n",
    "                    print('#####################')\n",
    "                data.append([row[0],row[1],row[2],row[3],row[4],row[5],row[6],row[7],row[8]])\n",
    "                count+=1\n",
    "        except:\n",
    "            print('-------Error-----------')\n",
    "            print('unable to retrieve line '+str(count+1))\n",
    "            print('-----------------------')\n",
    "            pass\n",
    "    print(str(count) + ' rows imported out of a bit more than 8000 lines')\n",
    "    return(data)"
   ]
  },
  {
   "cell_type": "code",
   "execution_count": 21,
   "metadata": {},
   "outputs": [
    {
     "name": "stdout",
     "output_type": "stream",
     "text": [
      "Reading file:\n",
      "###Example of input###\n",
      "-id: 0 -developer: NianticInc -AppName: ‎Pokémon GO  -rating: 4.1 -n_comments:227.6K -top_cat: 6inRolePlaying -price: Free\n",
      "Comment title:   Mysteriously addictive....\n",
      "Comment body: Seems some homework was done on how to build addictive entertainment. Every week I’m surprised at the age group range I see at raid hour in town, everything from 6 to 85 in wheelchairs and all forms in between. Have seen as many as around 200 people on community day flooding the sidewalks and nearly getting ran over.... never said they were all smart and mindful. But I can’t quite give it 5stars :/ Some things I could complain about, are actually what aids in keeping you playing, so I won’t on those things.. However, Shadow Pokémon are a more real issue.. They look cool, but you have to give up the looks to make them useful and that stinks! Collectors are getting gouged on them as you need to significantly increase your room to store them, at some $$ or large amounts of time. They don’t have an entry in the Pokédex so you either have to keep them to see again, destroy them by purification or transferring them into nothingness.... Is there really no room in your worlds design for the classic shadow/evil/underworld style classifications that been the main stay of gaming for decades?? Let us make them usable via TM’s and just drop the skill reset on purification, or work harder and give them a new move set category with maybe a smaller skill set pool if it makes it easier.. and the way your trading system destroys IV’s on trade I don’t even see any harm in letting us trade them....\n",
      "#####################\n",
      "-------Error-----------\n",
      "unable to retrieve line 4919\n",
      "-----------------------\n",
      "4918 rows imported out of a bit more than 8000 lines\n"
     ]
    }
   ],
   "source": [
    "file= 'apps_info.tsv'\n",
    "data = data_reader(file)"
   ]
  },
  {
   "cell_type": "code",
   "execution_count": 26,
   "metadata": {
    "scrolled": true
   },
   "outputs": [
    {
     "name": "stdout",
     "output_type": "stream",
     "text": [
      "Example of list:\n",
      "['417', 'PlaytikaLTD', '\\u200eWorld Series of Poker - WSOP ', '4.4', '136.2K', '7inCasino', 'Free', '  Buy Buy Buy', 'This is the best poker game out there and it is near perfect I just have a few things that I think could make this truly great.  First, I would like some type of free roll tournament every week or month where people could enter for free and maybe earn some bit of real money.  Second, I think it would also be nice if there was just a little bit more time to make a decision with hands unless I have missed something.  Finally, it would be cool to have leagues of some sort both public and private where people could play like a season or something along those lines. Now to hit on a point that a lot of people bring up in their reviews about having to pay money.  Depends on how good you are in all honesty and how well you understand poker and how the people who make games make money.  If you aren’t good and you want the games bracelets/rings you are either going to have to be good and earn them the real way or pay lots of money.  Poker is a game where 80% or more of people that play never turn a profit it would be stupid not to capitalize on this as a developer and they also have to make money to give us a great game.  Like I said truly a great game just a lot of people not understanding how things work in their reviews.']\n"
     ]
    }
   ],
   "source": [
    "print('Example of list:')\n",
    "print(data[417])"
   ]
  },
  {
   "cell_type": "markdown",
   "metadata": {},
   "source": [
    "# Indexer"
   ]
  },
  {
   "cell_type": "markdown",
   "metadata": {},
   "source": [
    "Here, we have to define 9 fields types:\n",
    "1) ID\n",
    "2) Developer Company\n",
    "3) Application name\n",
    "4) Average Rating\n",
    "5) Number of ratings/comments\n",
    "6) Ranking in categorie\n",
    "7) Price of the app\n",
    "8) Title of comment\n",
    "9) Body of comment"
   ]
  },
  {
   "cell_type": "markdown",
   "metadata": {},
   "source": [
    "An improvement would be to create these fields recursively: it would use the type of data to define if it is tokenized and index. The problem with this method is that some rows are different for example in rank: some have a string as rating while other have just -1 for no rank."
   ]
  },
  {
   "cell_type": "code",
   "execution_count": 27,
   "metadata": {},
   "outputs": [],
   "source": [
    "from org.apache.lucene.store import RAMDirectory\n",
    "from org.apache.lucene.store import FSDirectory"
   ]
  },
  {
   "cell_type": "code",
   "execution_count": 30,
   "metadata": {},
   "outputs": [],
   "source": [
    "class _indexer:\n",
    "    def __init__(self,data,path,fields_name):\n",
    "        self._fields = []\n",
    "        self.data = data\n",
    "        self.fields_n = fields_name\n",
    "        self.writer_path = path\n",
    "        self.init_fields()\n",
    "        #StandardAnalyzer example.\n",
    "        self.analyzer = StandardAnalyzer()\n",
    "        \n",
    "    def init_writer(self):\n",
    "        '''Initializes the writer, the storage directory, and the configuration'''\n",
    "        storeDir=os.path.dirname((self.writer_path))\n",
    "        storeDir = Paths.get('index')\n",
    "        #SimpleFSDirectory\n",
    "        self.store = SimpleFSDirectory((storeDir))\n",
    "        config = IndexWriterConfig(self.analyzer)\n",
    "        config.setOpenMode(IndexWriterConfig.OpenMode.CREATE)#_OR_APPEND)\n",
    "        #Writer\n",
    "        self.writer = IndexWriter(self.store,config)\n",
    "        print(self.writer.getInfoStream())\n",
    "        self.writer.commit()\n",
    "        \n",
    "    def init_fields(self):\n",
    "        '''Initialize the fields in an array(the indices will be matching the data indices)\n",
    "        For later use in the data writer'''\n",
    "        fields=[]\n",
    "\n",
    "        #Define ID field\n",
    "        id_f = FieldType()\n",
    "        id_f.setStored(True)\n",
    "        id_f.setTokenized(False)\n",
    "        fields.append(id_f)\n",
    "\n",
    "        #Define developer field\n",
    "        dev_f = FieldType()\n",
    "        dev_f.setStored(True)\n",
    "        dev_f.setTokenized(False)\n",
    "        fields.append(dev_f)\n",
    "\n",
    "        #Define application name field\n",
    "        app_f = FieldType()\n",
    "        app_f.setStored(True)\n",
    "        app_f.setTokenized(True) \n",
    "        #app_f.setIndexOptions(IndexOptions.DOCS_AND_FREQS_AND_POSITIONS)\n",
    "        fields.append(app_f)\n",
    "\n",
    "        #Define average review field\n",
    "        avgr_f = FieldType()\n",
    "        avgr_f.setStored(True)\n",
    "        avgr_f.setTokenized(False)\n",
    "        fields.append(avgr_f)\n",
    "\n",
    "        #Define number of comments field\n",
    "        nbcom_f = FieldType()\n",
    "        nbcom_f.setStored(True)\n",
    "        nbcom_f.setTokenized(False)\n",
    "        fields.append(nbcom_f)\n",
    "\n",
    "        #Define ranking in categorie\n",
    "        rank_f = FieldType()\n",
    "        rank_f.setStored(True)\n",
    "        rank_f.setTokenized(True)\n",
    "        fields.append(rank_f)\n",
    "\n",
    "        #Define price field\n",
    "        price_f = FieldType()\n",
    "        price_f.setStored(True)\n",
    "        price_f.setTokenized(False)\n",
    "        fields.append(price_f)\n",
    "\n",
    "        #Define comment title field\n",
    "        comt_f = FieldType()\n",
    "        comt_f.setStored(True)\n",
    "        comt_f.setTokenized(True)\n",
    "        comt_f.setIndexOptions(IndexOptions.DOCS_AND_FREQS_AND_POSITIONS)\n",
    "        fields.append(comt_f)\n",
    "\n",
    "        #Define comment body field\n",
    "        comb_f = FieldType()\n",
    "        comb_f.setStored(True)\n",
    "        comb_f.setTokenized(True)\n",
    "        comb_f.setIndexOptions(IndexOptions.DOCS_AND_FREQS_AND_POSITIONS)\n",
    "        fields.append(comb_f)\n",
    "        \n",
    "        self.fields = fields\n",
    "        return(fields)\n",
    "    \n",
    "    def close_writer(self):\n",
    "        '''Close the writer'''\n",
    "        try:\n",
    "            self.writer.commit()\n",
    "            self.writer.close()\n",
    "        except:\n",
    "            print('Writer already closed')\n",
    "            \n",
    "    def write_doc(self,doc):\n",
    "        '''Add document into the writer'''\n",
    "        self.writer.addDocument(doc)\n",
    "    \n",
    "    def write_data(self):\n",
    "        '''Get an array of array with 9 fields\n",
    "        Write data into the lucene writer'''\n",
    "        #Idea was to commit regularly(every 10 docs) but commit are computationaly expensive    \n",
    "        printo = True\n",
    "        self.init_writer()\n",
    "        for d in data:\n",
    "            #Insert array fields into lucene fields\n",
    "            d[7] = d[7].replace('  ','')\n",
    "            f0 = Field(self.fields_n[0],d[0], self.fields[0])\n",
    "            f1 = Field(self.fields_n[1],d[1], self.fields[1])\n",
    "            f2 = Field(self.fields_n[2],d[2], self.fields[2])\n",
    "            f3 = Field(self.fields_n[3],d[3], self.fields[3])\n",
    "            f4 = Field(self.fields_n[4],d[4], self.fields[4])\n",
    "            f5 = Field(self.fields_n[5],d[5], self.fields[5])\n",
    "            f6 = Field(self.fields_n[6],d[6], self.fields[6])\n",
    "            f7 = Field(self.fields_n[7],d[7], self.fields[7])\n",
    "            f8 = Field(self.fields_n[8],d[8], self.fields[8])\n",
    "            #Add lucene fields to a lucene document\n",
    "            doc = Document()\n",
    "            doc.add(f0)\n",
    "            doc.add(f1)\n",
    "            doc.add(f2)\n",
    "            doc.add(f3)\n",
    "            doc.add(f4)\n",
    "            doc.add(f5)\n",
    "            doc.add(f6)\n",
    "            doc.add(f7)\n",
    "            doc.add(f8)\n",
    "            #Print and write the documents into the lucene index\n",
    "            printo = self.print_doc(doc,printo)\n",
    "            self.write_doc(doc)\n",
    "        #Close writer\n",
    "        self.get_fields_name()\n",
    "        self.close_writer()\n",
    "    \n",
    "    \n",
    "    def print_doc(self,doc,printo):\n",
    "        '''Print and return document'''\n",
    "        if(printo==True):\n",
    "            print(doc)\n",
    "        printo = False\n",
    "        return (printo)\n",
    "    \n",
    "    def get_fields_name(self):\n",
    "        '''Print and return fields names'''\n",
    "        print(self.writer.getFieldNames())\n",
    "        return(self.writer.getFieldNames())\n",
    "    \n",
    "    def get_info(self):\n",
    "        ''''''\n",
    "        return ([self.analyzer,self.store])\n",
    "        "
   ]
  },
  {
   "cell_type": "markdown",
   "metadata": {},
   "source": [
    "# Searcher"
   ]
  },
  {
   "cell_type": "code",
   "execution_count": 31,
   "metadata": {},
   "outputs": [],
   "source": [
    "from org.apache.lucene.search import IndexSearcher\n",
    "from org.apache.lucene.queryparser.classic import QueryParser, MultiFieldQueryParser\n",
    "from org.apache.lucene.index import IndexReader"
   ]
  },
  {
   "cell_type": "code",
   "execution_count": null,
   "metadata": {
    "scrolled": true
   },
   "outputs": [],
   "source": [
    "#Comment line if gensim already installed on your machine\n",
    "!pip install gensim"
   ]
  },
  {
   "cell_type": "code",
   "execution_count": 39,
   "metadata": {},
   "outputs": [],
   "source": [
    "from gensim.test.utils import datapath"
   ]
  },
  {
   "cell_type": "code",
   "execution_count": 139,
   "metadata": {},
   "outputs": [],
   "source": [
    "#import similarities\n",
    "from org.apache.pylucene.search.similarities import PythonClassicSimilarity\n",
    "from org.apache.lucene.search.similarities import BM25Similarity\n",
    "from org.apache.lucene.search.similarities import TFIDFSimilarity"
   ]
  },
  {
   "cell_type": "markdown",
   "metadata": {},
   "source": [
    "Here, we used the twitter_25 with 50 dimensions found on https://github.com/RaRe-Technologies/gensim-data/tree/wiki-english-20171001 . We chose the smallest dimension as the model is heavy to load. Note that the pre-trained model is given in Glove format and gensim needs Word2Vec(W2V) format: for further work and for decreasing the computation load, choose a model directly in W2V format."
   ]
  },
  {
   "cell_type": "code",
   "execution_count": 38,
   "metadata": {},
   "outputs": [],
   "source": [
    "#Reference to convert from Glove to W2V:\n",
    "#https://radimrehurek.com/gensim/scripts/glove2word2vec.html\n",
    "#Accessed on 30/03/2020\n",
    "\n",
    "from gensim.test.utils import datapath, get_tmpfile\n",
    "from gensim.models import KeyedVectors\n",
    "from gensim.scripts.glove2word2vec import glove2word2vec\n",
    "\n",
    "glove_file = (\"vocab.txt\")\n",
    "tmp_file = get_tmpfile(\"test_word2vec.txt\")\n",
    "_ = glove2word2vec(glove_file, tmp_file)\n",
    "model = KeyedVectors.load_word2vec_format(tmp_file)"
   ]
  },
  {
   "cell_type": "code",
   "execution_count": 175,
   "metadata": {},
   "outputs": [],
   "source": [
    "#Used to sort list based on second element of tuple\n",
    "def sortSecond(val):\n",
    "    return(val[1])\n",
    "\n",
    "class searcher:\n",
    "    def __init__(self,path,info):\n",
    "        '''Initializes the searcher class'''\n",
    "        self.path = path\n",
    "        self.isearcher = None\n",
    "        self.store = info[1]\n",
    "        self.analyzer = info[0]\n",
    "        self.init_searcher()\n",
    "        self.similarities = ['bm25similarity','tfidfsimilarity']\n",
    "    \n",
    "    def init_searcher(self):\n",
    "        '''Initializes the lucene searcher'''\n",
    "        self.isearcher = IndexSearcher(DirectoryReader.open(self.store))\n",
    "    \n",
    "    def get_similarity(self):\n",
    "        '''Print the similarities offered by the searcher'''\n",
    "        print(self.similarities)\n",
    "              \n",
    "    def format_query(self,fields,params):\n",
    "        '''Format query to string \"field:param\" '''\n",
    "        query = ''\n",
    "        query = str(fields) + ': ' + str(params) + ''\n",
    "        return(query)\n",
    "    \n",
    "    def query(self,field,param,option):\n",
    "        if (option == \"simple\"):\n",
    "            print(\"#EXECUTING SIMPLE QUERY#\")\n",
    "            result = self.run_query(field,param)\n",
    "            self.print_results(result)\n",
    "        elif(option == \"expansion\"):   \n",
    "            print(\"#EXECUTING EXPANDED QUERY#\")\n",
    "            result2 = self.expand(field,param)\n",
    "        elif(option == \"multiple\"):\n",
    "            print(\"#EXECUTING MULTIPLE FIELD QUERY#\")\n",
    "            print('Under construction')\n",
    "        \n",
    "    def expand(self,field,param):\n",
    "        \"\"\"Get new words from the given word and call run query for each of them\"\"\"\n",
    "        self.model = vector_model()\n",
    "        words = self.model.get_similar_words(param)\n",
    "        words = self.remove_words(words)\n",
    "        #Add the original word at the beginning of the array\n",
    "        words= [param,*words]\n",
    "        print(\"Word selected to expand:\" + str(words))\n",
    "        results = []\n",
    "        for w in words:\n",
    "            results.append(list(self.run_query(field,w)))\n",
    "        return(self.sort_results(results))\n",
    "    \n",
    "    def remove_words(self,words):\n",
    "        \"\"\"\n",
    "        Cast result(w/similarity) to word\n",
    "        Use a threshold of 0.75 for keepping the more similar words\n",
    "        \"\"\"\n",
    "        sel_words = []\n",
    "        for w in words:\n",
    "            if w[1]>0.75:\n",
    "                sel_words.append(w[0])\n",
    "        return(sel_words)\n",
    "        \n",
    "    def sort_results(self,results):\n",
    "        '''Cast result to (result, result.score) format\n",
    "        Compare similarity score of the results for different queries'''\n",
    "        temp_array=[]\n",
    "        for res in results:\n",
    "            for r in res:\n",
    "                doc = self.isearcher.doc(r.doc)\n",
    "                temp_array.append((r,r.score))\n",
    "        temp_array.sort(key=sortSecond,reverse=True)\n",
    "        sorted_results = [x[0] for x in temp_array]\n",
    "        self.print_results(sorted_results)\n",
    "        return sorted_results\n",
    "    \n",
    "    def mul_query(self,fields,params):\n",
    "        pass\n",
    "    \n",
    "    def run_query(self,field,param):\n",
    "        '''Run a query with a given field and parameter'''\n",
    "        self.init_searcher()\n",
    "        arg = self.format_query(field,param)\n",
    "        qp = QueryParser('id',self.analyzer) \n",
    "        query = qp.parse( str(arg) ) #title:[* TO *]\n",
    "        print('###NEW QUERY: field='+field+'; param='+param+' ###')\n",
    "        result = self.isearcher.search(query,100).scoreDocs\n",
    "        return(result)\n",
    "\n",
    "    def print_results(self,result):\n",
    "        '''Display results in organized way'''\n",
    "        print('Results size: ', len(result))\n",
    "        for r in result[:10]:\n",
    "            doc = self.isearcher.doc(r.doc)\n",
    "            print(\"---------------\")\n",
    "            print('Comment ID:'+str(doc.get('id')) +'\\t Application Name:' + str(doc.get('application_name')))\n",
    "            print('Comment title: '+doc.get('comment_title'))\n",
    "            print(doc.get('comment_body'))\n",
    "            print(r.score)\n",
    "            \n",
    "    def set_similarity(self,sim):\n",
    "        #https://lucene.apache.org/core/7_0_0/core/index.html?org/apache/lucene/search/similarities/Similarity.html\n",
    "        if (sim==0 ):\n",
    "            self.isearcher.setSimilarity(BM25Similarity())\n",
    "        elif (sim==1):\n",
    "            print('not working')\n",
    "            #similarity=TFIDFSimilarity()\n",
    "            #self.isearcher.setSimilarity(similarity)\n",
    "        else:\n",
    "            print('Similarity wrong or not available')\n",
    "        "
   ]
  },
  {
   "cell_type": "code",
   "execution_count": 52,
   "metadata": {},
   "outputs": [],
   "source": [
    "class vector_model:\n",
    "    def __init__(self):\n",
    "        self._model = model\n",
    "    def get_vocab(self):\n",
    "        print(\"Vector model dimension(word,dimension):\")\n",
    "        print(self._model.wv.vectors.shape)\n",
    "    def get_similar_words(self,word):\n",
    "        sim_words = self._model.similar_by_word(word = word)\n",
    "        return(sim_words)"
   ]
  },
  {
   "cell_type": "markdown",
   "metadata": {},
   "source": [
    "# Test of the model"
   ]
  },
  {
   "cell_type": "markdown",
   "metadata": {},
   "source": [
    "## Indexer"
   ]
  },
  {
   "cell_type": "code",
   "execution_count": 43,
   "metadata": {},
   "outputs": [],
   "source": [
    "#Init_indexer\n",
    "path = 'data'\n",
    "fields_n = ['id','developer','application_name','rating',\n",
    "            'number_comments','topcategory','price',\n",
    "           'comment_title','comment_body']\n",
    "indexer = _indexer(data,path,fields_n)\n",
    "fields = indexer.init_fields()"
   ]
  },
  {
   "cell_type": "code",
   "execution_count": 44,
   "metadata": {},
   "outputs": [
    {
     "name": "stdout",
     "output_type": "stream",
     "text": [
      "org.apache.lucene.util.InfoStream$NoOutput@7de62196\n",
      "Document<stored<id:0> stored<developer:NianticInc> stored<application_name:‎Pokémon GO > stored<rating:4.1> stored<number_comments:227.6K> stored<topcategory:6inRolePlaying> stored<price:Free> stored,indexed,tokenized<comment_title:Mysteriously addictive....> stored,indexed,tokenized<comment_body:Seems some homework was done on how to build addictive entertainment. Every week I’m surprised at the age group range I see at raid hour in town, everything from 6 to 85 in wheelchairs and all forms in between. Have seen as many as around 200 people on community day flooding the sidewalks and nearly getting ran over.... never said they were all smart and mindful. But I can’t quite give it 5stars :/ Some things I could complain about, are actually what aids in keeping you playing, so I won’t on those things.. However, Shadow Pokémon are a more real issue.. They look cool, but you have to give up the looks to make them useful and that stinks! Collectors are getting gouged on them as you need to significantly increase your room to store them, at some $$ or large amounts of time. They don’t have an entry in the Pokédex so you either have to keep them to see again, destroy them by purification or transferring them into nothingness.... Is there really no room in your worlds design for the classic shadow/evil/underworld style classifications that been the main stay of gaming for decades?? Let us make them usable via TM’s and just drop the skill reset on purification, or work harder and give them a new move set category with maybe a smaller skill set pool if it makes it easier.. and the way your trading system destroys IV’s on trade I don’t even see any harm in letting us trade them....>>\n",
      "[number_comments, application_name, comment_title, price, comment_body, rating, developer, id, topcategory]\n"
     ]
    }
   ],
   "source": [
    "indexer.write_data()"
   ]
  },
  {
   "cell_type": "code",
   "execution_count": 45,
   "metadata": {},
   "outputs": [
    {
     "name": "stdout",
     "output_type": "stream",
     "text": [
      "[<StandardAnalyzer: org.apache.lucene.analysis.standard.StandardAnalyzer@2b175c00>, <SimpleFSDirectory: SimpleFSDirectory@/home/docker/images/jupyter/Project/index lockFactory=org.apache.lucene.store.NativeFSLockFactory@74287ea3>]\n"
     ]
    }
   ],
   "source": [
    "info = indexer.get_info()\n",
    "print(info)"
   ]
  },
  {
   "cell_type": "markdown",
   "metadata": {},
   "source": [
    "## Vector model"
   ]
  },
  {
   "cell_type": "code",
   "execution_count": 53,
   "metadata": {
    "scrolled": true
   },
   "outputs": [
    {
     "name": "stdout",
     "output_type": "stream",
     "text": [
      "Vector model dimension(word,dimension):\n",
      "(400000, 50)\n",
      "[('schoolwork', 0.793504536151886), ('chores', 0.758959174156189), ('figuring', 0.7507083415985107), ('basics', 0.7434030175209045), ('typing', 0.7010283470153809), ('tutoring', 0.6962698101997375), ('housekeeping', 0.6656022667884827), ('cramming', 0.6605523824691772), ('worksheets', 0.6596395373344421), ('chore', 0.6594257354736328)]\n"
     ]
    },
    {
     "name": "stderr",
     "output_type": "stream",
     "text": [
      "<ipython-input-52-e6c6b4b4500e>:9: DeprecationWarning: Call to deprecated `wv` (Attribute will be removed in 4.0.0, use self instead).\n",
      "  print(self._model.wv.vectors.shape)\n"
     ]
    }
   ],
   "source": [
    "#Testing vector model with the example of \"homework\"\n",
    "test = vector_model()\n",
    "test.get_vocab()\n",
    "print(test.get_similar_words('homework'))"
   ]
  },
  {
   "cell_type": "markdown",
   "metadata": {},
   "source": [
    "## Searcher model"
   ]
  },
  {
   "cell_type": "code",
   "execution_count": 176,
   "metadata": {
    "scrolled": true
   },
   "outputs": [],
   "source": [
    "searcher_class = searcher(path,info)"
   ]
  },
  {
   "cell_type": "code",
   "execution_count": 177,
   "metadata": {},
   "outputs": [
    {
     "name": "stdout",
     "output_type": "stream",
     "text": [
      "#EXECUTING SIMPLE QUERY#\n",
      "###NEW QUERY: field=comment_body; param=superstar ###\n",
      "Results size:  1\n",
      "---------------\n",
      "Comment ID:179\t Application Name:‎NBA LIVE Mobile Basketball \n",
      "Comment title: Great game, but has much more potential\n",
      "Overall, this is a really fun game. But it has way more potential to be an amazing game. But first of all, in the video previewing the game it shows them putting James Harden, a SG, in the SF player slot. But how come I can’t put players out of position in the real game? The training also looks different in the video. I think putting players out of position would be awesome, and it just doesn’t count for chemistry. Anyway, my first suggestion is to allow you to sub your bench players in in-game. Also allow for instant replays and at the end of season games/h2h quarters let you see the players’ stats. Also, for the programs, stay more consistent with players’ overalls. For example, the legends started as 89s and to do the set you had to get 4 worse legend cards for that player. Well now, the legends are 96s and the best player in their sets are 90s. They’re better than the original legends that got released. The way I explained that is a bit confusing but those who play know what I mean. Also the superstars started as 93s and costed 120 superstar tokens. Now IT4 is a 95 superstar and costs 100 superstar tokens. Logical? No. Those are the glaring problems imo other than the pay to win which is annoying and doesn’t need to be explained. The small problems are just things like making more gameplay graphics and little bug fixes. I hope you read this EA and make these things happen.\n",
      "3.9899861812591553\n"
     ]
    }
   ],
   "source": [
    "#Search in comment_body as simple query\n",
    "searcher_class.query('comment_body','superstar','simple')"
   ]
  },
  {
   "cell_type": "code",
   "execution_count": 178,
   "metadata": {
    "scrolled": false
   },
   "outputs": [
    {
     "name": "stdout",
     "output_type": "stream",
     "text": [
      "#EXECUTING EXPANDED QUERY#\n",
      "Word selected to expand:['superstar', 'star', 'superstars', 'idol']\n",
      "###NEW QUERY: field=comment_body; param=superstar ###\n",
      "###NEW QUERY: field=comment_body; param=star ###\n",
      "###NEW QUERY: field=comment_body; param=superstars ###\n",
      "###NEW QUERY: field=comment_body; param=idol ###\n",
      "Results size:  107\n",
      "---------------\n",
      "Comment ID:4589\t Application Name:‎Jacob Hit and Miss - Sartorius Endless Runner \n",
      "Comment title: Kinda weird\n",
      "First of all I love Jacob Sartorius with all my heart. He is my idol and I am a sartorian for life. But anyways this game is kinda weird.\n",
      "4.3032426834106445\n",
      "---------------\n",
      "Comment ID:179\t Application Name:‎NBA LIVE Mobile Basketball \n",
      "Comment title: Great game, but has much more potential\n",
      "Overall, this is a really fun game. But it has way more potential to be an amazing game. But first of all, in the video previewing the game it shows them putting James Harden, a SG, in the SF player slot. But how come I can’t put players out of position in the real game? The training also looks different in the video. I think putting players out of position would be awesome, and it just doesn’t count for chemistry. Anyway, my first suggestion is to allow you to sub your bench players in in-game. Also allow for instant replays and at the end of season games/h2h quarters let you see the players’ stats. Also, for the programs, stay more consistent with players’ overalls. For example, the legends started as 89s and to do the set you had to get 4 worse legend cards for that player. Well now, the legends are 96s and the best player in their sets are 90s. They’re better than the original legends that got released. The way I explained that is a bit confusing but those who play know what I mean. Also the superstars started as 93s and costed 120 superstar tokens. Now IT4 is a 95 superstar and costs 100 superstar tokens. Logical? No. Those are the glaring problems imo other than the pay to win which is annoying and doesn’t need to be explained. The small problems are just things like making more gameplay graphics and little bug fixes. I hope you read this EA and make these things happen.\n",
      "3.9899861812591553\n",
      "---------------\n",
      "Comment ID:2063\t Application Name:‎Dance Sparkle Girls Tournament \n",
      "Comment title: Worth a Shot!!\n",
      "It's very reminiscent of Bandori and Love Live, but that's not bad at all! Despite still being in the beta stage, it seems very promising :&gt, It's very easy to get used to, and I like the whole world they laid out. It's one of the first idol games I've seen to have androids and alchemists. Some characters seem a little flat at first, but there's more personality later!!!TLDR cute game that has a lot of potential\n",
      "3.2482049465179443\n",
      "---------------\n",
      "Comment ID:4530\t Application Name:‎Jackpot Poker by PokerStars™ \n",
      "Comment title: Something is not right\n",
      "I have been playing this game for approx. 10 months.  This is the most watched over game by it’s inventors that I have ever seen.  Besides being highly addictive(I have spent hundreds of dollars on this game) you get “cheated” with hands that rarely should come up(4 of kind, straight flush) to beat your Full House and the game sends you a message saying “Bad Beat”.  BS !!!  Don’t believe Superstars comments that say they follow all rules for random fair play.  That is an outright lie.   They also have a wireless symbol that comes up and totally halts the game when you have a great hand.  When you enter individual Tournaments, the wheel that spins to decide how much you will play for rarely goes over double your investment when the wheel has at least 10 other denominations of much higher value.   The average good rating(4.6) that this game shows is totally bogus.  I guarantee you.  Which means the owner is tampering with the reviews.  To top it off, I was entered in a tournament and the game froze as I consulted with the other players to verify.  I lost the 2.5m chips I entered with and Superstars would not send those back after 3 emails with them.  TERRIBLE GAME GO TO ANOTHER !!!\n",
      "3.2089147567749023\n",
      "---------------\n",
      "Comment ID:1541\t Application Name:‎Cake Kingdom Story: Match 3 Puzzle \n",
      "Comment title: Ms\n",
      "Five star fun!\n",
      "2.4989101886749268\n",
      "---------------\n",
      "Comment ID:1196\t Application Name:‎Baby Care Room : Bathing & Doctor & Hospital & Babysitting \n",
      "Comment title: Great app!!\n",
      "Luv it !! But not enough for a 5 star\n",
      "2.3786752223968506\n",
      "---------------\n",
      "Comment ID:2275\t Application Name:‎Earplay \n",
      "Comment title: Intriguing!\n",
      "This game looks to be lots of fun, however, there are accessibility issues that need to be resolved causing me to give this only a four star review rather than the five star it could have. Outside of that, game content and quality is great, and refreshing to find something different.\n",
      "2.3291819095611572\n",
      "---------------\n",
      "Comment ID:3683\t Application Name:‎Hair Salon Mania \n",
      "Comment title: This game is awful\n",
      "If the star could be 0 I would do not get it\n",
      "2.3227949142456055\n",
      "---------------\n",
      "Comment ID:4294\t Application Name:‎I'm a Star! \n",
      "Comment title: Don’t get.\n",
      "It’s horrible and doesn’t even work all these five star ratings are fake.\n",
      "2.3047471046447754\n",
      "---------------\n",
      "Comment ID:4697\t Application Name:‎James Spring: Finding Friends \n",
      "Comment title: Lots of fun!!\n",
      "I really enjoyed this game! Can’t believe it only had 1 star 😭\n",
      "2.3047471046447754\n"
     ]
    }
   ],
   "source": [
    "#Search into comment_body with query expansion\n",
    "searcher_class.query('comment_body','superstar',\"expansion\")"
   ]
  },
  {
   "cell_type": "code",
   "execution_count": 180,
   "metadata": {
    "scrolled": false
   },
   "outputs": [
    {
     "name": "stdout",
     "output_type": "stream",
     "text": [
      "#EXECUTING SIMPLE QUERY#\n",
      "###NEW QUERY: field=comment_title; param=horrible ###\n",
      "Results size:  36\n",
      "---------------\n",
      "Comment ID:873\t Application Name:‎Aaah! Make my nails beautiful! FREE- super fun beauty salon game for little flower girls \n",
      "Comment title: Horrible\n",
      "This game won't do anything unless you pay $9.99.\n",
      "3.1667425632476807\n",
      "---------------\n",
      "Comment ID:1146\t Application Name:‎Baby blocks memory match games without the wifi \n",
      "Comment title: Horrible\n",
      "It doesn't even work when I first got on this app the screen was black for 20 minutes\n",
      "3.1667425632476807\n",
      "---------------\n",
      "Comment ID:1176\t Application Name:‎Baby Car Driver - your toddler's first car \n",
      "Comment title: Horrible\n",
      "Dumbest game ever. It doesn’t do anything. I paid 99 cents assuming there would be more to it. My 4 year old played on it for 30 seconds and put my phone down. I want my money back!\n",
      "3.1667425632476807\n",
      "---------------\n",
      "Comment ID:1376\t Application Name:‎CAD Design 3D - for Interior Design & Floor Plan \n",
      "Comment title: Horrible\n",
      "Worst app ever! Cannot contact customer support for refund\n",
      "3.1667425632476807\n",
      "---------------\n",
      "Comment ID:1796\t Application Name:‎Daddy Finger Family Song \n",
      "Comment title: Horrible\n",
      "Paid for full version and it never unlocked. The app crashes when you try to restore the purchase. Stay away! 0/5 Stars!\n",
      "3.1667425632476807\n",
      "---------------\n",
      "Comment ID:1830\t Application Name:‎DAFU™ Casino \n",
      "Comment title: HORRIBLE\n",
      "I have spent so many hundreds of dollars on this game in the last month of playing. When they tell you that you will get money after the event is over, is all a lie. There was only five minutes left, I left the app and came back 10 minutes later, and there was nothing. And I had made over $50 in purchases just that day!!!!! And then when it’s time for a bonus on a certain game called “YEAR OF THE PIG” - it reset on me!!! I was playing 3 BILLION A HAND! Because I knew it was almost time. This is not fair, I have spent hundreds and hundreds, and I had billions.Worst part is, you contact support and they say they’re on “holiday”. Not my problem - that your “holiday” lasts weeks. I’ve been waiting for an answer since mid April! I will be reporting them, because they don’t deserve to have an app in the App Store.\n",
      "3.1667425632476807\n",
      "---------------\n",
      "Comment ID:2384\t Application Name:‎Easiest Game Ever \n",
      "Comment title: Horrible\n",
      "It literally took me 30 seconds to realize that I hated this game. Unfortunately I downloaded it before I read the reviews because after I deleted it I read the reviews and realize I’m not the only one who couldn’t figure out how to play it it tells you know directions it’s just the stupidest waste of time waste of data waste of battery that I’ve ever downloaded\n",
      "3.1667425632476807\n",
      "---------------\n",
      "Comment ID:2450\t Application Name:‎Easter Calendar 2015 - 20 Free Mini Games \n",
      "Comment title: Horrible\n",
      "I hate this app it just said when I click on a clear egg to early come back on the right day\n",
      "3.1667425632476807\n",
      "---------------\n",
      "Comment ID:2564\t Application Name:‎F-Zero Fatal Racing \n",
      "Comment title: Horrible!\n",
      "Single speed, craft handles terrible, obstacles build too late.  Another app with a different name was identical so I paid twice!  Great cover art, but pitiful graphics.  Very deceiving.\n",
      "3.1667425632476807\n",
      "---------------\n",
      "Comment ID:2598\t Application Name:‎F16 Naval Jet Air Strike : Warfare Combat 3D \n",
      "Comment title: Horrible\n",
      "Horrible game just don't it's a rip off\n",
      "3.1667425632476807\n"
     ]
    }
   ],
   "source": [
    "#Search into comment_title as simple query\n",
    "searcher_class.query('comment_title','horrible',\"simple\")"
   ]
  },
  {
   "cell_type": "code",
   "execution_count": 181,
   "metadata": {
    "scrolled": false
   },
   "outputs": [
    {
     "name": "stdout",
     "output_type": "stream",
     "text": [
      "#EXECUTING EXPANDED QUERY#\n",
      "Word selected to expand:['horrible', 'terrible', 'awful', 'dreadful', 'horrific', 'horrendous', 'horrifying', 'frightening', 'tragic', 'shocking', 'disgusting']\n",
      "###NEW QUERY: field=comment_title; param=horrible ###\n",
      "###NEW QUERY: field=comment_title; param=terrible ###\n",
      "###NEW QUERY: field=comment_title; param=awful ###\n",
      "###NEW QUERY: field=comment_title; param=dreadful ###\n",
      "###NEW QUERY: field=comment_title; param=horrific ###\n",
      "###NEW QUERY: field=comment_title; param=horrendous ###\n",
      "###NEW QUERY: field=comment_title; param=horrifying ###\n",
      "###NEW QUERY: field=comment_title; param=frightening ###\n",
      "###NEW QUERY: field=comment_title; param=tragic ###\n",
      "###NEW QUERY: field=comment_title; param=shocking ###\n",
      "###NEW QUERY: field=comment_title; param=disgusting ###\n",
      "Results size:  78\n",
      "---------------\n",
      "Comment ID:1178\t Application Name:‎Baby Car Driver - your toddler's first car \n",
      "Comment title: Awful\n",
      "I want a refund!!!\n",
      "3.6417582035064697\n",
      "---------------\n",
      "Comment ID:1549\t Application Name:‎Cake Maker - Sweet Shop \n",
      "Comment title: Awful\n",
      "This game is awful !! And hard to use !!! You can't do nothing fun with this game !!!! Do not download this game it's a waste of time !!\n",
      "3.6417582035064697\n",
      "---------------\n",
      "Comment ID:1756\t Application Name:‎Dab Fight \n",
      "Comment title: Awful\n",
      "This is awful\n",
      "3.6417582035064697\n",
      "---------------\n",
      "Comment ID:1879\t Application Name:‎Daily CVC Words Phonics Games \n",
      "Comment title: Awful!\n",
      "This app was developed by non-native English speakers and they are clearly not experts at English or the phonics of English, which this app attempts to teach children through games. It is a clunky interface and it's unclear what the child is supposed to do. It's difficult to play in the first place, plus it is slow to load and has way too many ads! Don't waste your time.\n",
      "3.6417582035064697\n",
      "---------------\n",
      "Comment ID:2386\t Application Name:‎Easiest Game Ever \n",
      "Comment title: Awful!!!!!!\n",
      "Simply awful this app is the worst I haven't even gotten to play this game!!! Because I tap on it to go into it and it just immediately takes me back to the home screen !!!!!:-() if I could rate this app zero stars I would never get this app!!!\n",
      "3.6417582035064697\n",
      "---------------\n",
      "Comment ID:2628\t Application Name:‎F22 Raptor Jet simulator 3D \n",
      "Comment title: Awful!\n",
      "The mission starts and the ads start overtop of the missions. Causing you to lose valuable time and miss steps.  I even downloaded one of the games to hopefully stop that ad, but no joy.  VERY FRUSTRATING!\n",
      "3.6417582035064697\n",
      "---------------\n",
      "Comment ID:876\t Application Name:‎Aaah! Make my nails beautiful!- super fun beauty salon game for girls \n",
      "Comment title: Terrible\n",
      "You guys are awful. Make a game for a little kid and then fill it with crap ads so it doesn't even work. Get a life!  Rip off artists.\n",
      "3.3984851837158203\n",
      "---------------\n",
      "Comment ID:1026\t Application Name:‎Baby & Mommy – Birth Care Game \n",
      "Comment title: TERRIBLE\n",
      "I wanted to play this game so bad and even pre-ordered it. When I got it, it just seems so cheaply made. The pictures and descriptions ARE NOT the same. Anytime you hold something down to give to the mom or baby, it’s hard to move the objects. The baby is already born but she’s some how pregnant.. it just doesn’t make sense. Waste of time...\n",
      "3.3984851837158203\n",
      "---------------\n",
      "Comment ID:1568\t Application Name:‎Cake Pop Doctor - Celebrity Chef! \n",
      "Comment title: Terrible\n",
      "You literally can’t get past the first stage\n",
      "3.3984851837158203\n",
      "---------------\n",
      "Comment ID:2050\t Application Name:‎Dance Pet Piano Lite \n",
      "Comment title: Terrible\n",
      "It won't even let me In the game!\n",
      "3.3984851837158203\n"
     ]
    }
   ],
   "source": [
    "#Search into comment_title with query expansion\n",
    "searcher_class.query('comment_title','horrible',\"expansion\")"
   ]
  }
 ],
 "metadata": {
  "kernelspec": {
   "display_name": "Python 3",
   "language": "python",
   "name": "python3"
  },
  "language_info": {
   "codemirror_mode": {
    "name": "ipython",
    "version": 3
   },
   "file_extension": ".py",
   "mimetype": "text/x-python",
   "name": "python",
   "nbconvert_exporter": "python",
   "pygments_lexer": "ipython3",
   "version": "3.7.1"
  }
 },
 "nbformat": 4,
 "nbformat_minor": 4
}
